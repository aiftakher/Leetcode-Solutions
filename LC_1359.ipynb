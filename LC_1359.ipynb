{
 "cells": [
  {
   "cell_type": "code",
   "execution_count": 5,
   "metadata": {},
   "outputs": [
    {
     "name": "stdout",
     "output_type": "stream",
     "text": [
      "90\n"
     ]
    }
   ],
   "source": [
    "import math\n",
    "\n",
    "class Solution:\n",
    "    def countOrders(self, n: int) -> int:\n",
    "        MOD = 10**9 + 7\n",
    "        ans = 1\n",
    "        sbs = 0\n",
    "        while 2*n - sbs >= 2:\n",
    "            # compute permutation(2*n - sbs, 2) / 2\n",
    "\n",
    "\n",
    "            ans = ans * (math.perm(2*n - sbs, 2) // 2) % MOD\n",
    "            sbs += 2\n",
    "        return ans\n",
    "\n",
    "\n",
    "# Idea\n",
    "# ((2n P 2) / 2) * ((2n-2 P 2) / 2) * ((2n-4 P 2) / 2) * ... * (2 P 2)/2\n",
    "\n",
    "sol = Solution()\n",
    "print(sol.countOrders(3)) # 1"
   ]
  }
 ],
 "metadata": {
  "kernelspec": {
   "display_name": ".venv",
   "language": "python",
   "name": "python3"
  },
  "language_info": {
   "codemirror_mode": {
    "name": "ipython",
    "version": 3
   },
   "file_extension": ".py",
   "mimetype": "text/x-python",
   "name": "python",
   "nbconvert_exporter": "python",
   "pygments_lexer": "ipython3",
   "version": "3.9.18"
  }
 },
 "nbformat": 4,
 "nbformat_minor": 2
}
