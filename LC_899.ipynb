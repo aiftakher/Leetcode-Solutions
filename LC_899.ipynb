{
 "cells": [
  {
   "cell_type": "code",
   "execution_count": 13,
   "metadata": {},
   "outputs": [
    {
     "name": "stdout",
     "output_type": "stream",
     "text": [
      "dummy: xisxr\n",
      "dummy: isxrx\n",
      "dummy: sxrxi\n",
      "dummy: xrxis\n",
      "dummy: rxisx\n",
      "isxrx\n"
     ]
    }
   ],
   "source": [
    "class Solution:\n",
    "    def orderlyQueue(self, s: str, k: int) -> str:\n",
    "        if k==1:\n",
    "            best = s\n",
    "            for i in range(len(s)):\n",
    "                dummy = s[i:]+s[:i]\n",
    "#                print('dummy:', dummy)\n",
    "                if dummy < best:\n",
    "                    best = dummy\n",
    "            return best\n",
    "        else:\n",
    "            return ''.join(sorted(s))\n",
    "\n",
    "\n",
    "if __name__ == '__main__':\n",
    "    s = \"xisxr\"\n",
    "    k = 1\n",
    "    obj = Solution()\n",
    "    print(obj.orderlyQueue(s, k))\n"
   ]
  },
  {
   "cell_type": "code",
   "execution_count": null,
   "metadata": {},
   "outputs": [],
   "source": []
  }
 ],
 "metadata": {
  "kernelspec": {
   "display_name": "Python 3",
   "language": "python",
   "name": "python3"
  },
  "language_info": {
   "codemirror_mode": {
    "name": "ipython",
    "version": 3
   },
   "file_extension": ".py",
   "mimetype": "text/x-python",
   "name": "python",
   "nbconvert_exporter": "python",
   "pygments_lexer": "ipython3",
   "version": "3.9.18"
  }
 },
 "nbformat": 4,
 "nbformat_minor": 2
}
