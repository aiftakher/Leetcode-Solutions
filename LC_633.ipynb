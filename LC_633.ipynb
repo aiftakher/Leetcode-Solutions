{
 "cells": [
  {
   "cell_type": "code",
   "execution_count": 3,
   "metadata": {},
   "outputs": [
    {
     "name": "stdout",
     "output_type": "stream",
     "text": [
      "False\n"
     ]
    }
   ],
   "source": [
    "class Solution:\n",
    "    def judgeSquareSum(self, c: int) -> bool:\n",
    "        if c == 0:\n",
    "            return True\n",
    "        i = 1\n",
    "        while i * i <= c:\n",
    "            j = c - i * i\n",
    "            if int(j ** 0.5) ** 2 == j:\n",
    "                return True\n",
    "            i += 1\n",
    "        return False\n",
    "\n",
    "if __name__ == '__main__':\n",
    "    c = 3\n",
    "    sol=Solution()\n",
    "    print(sol.judgeSquareSum(c))\n"
   ]
  }
 ],
 "metadata": {
  "kernelspec": {
   "display_name": ".venv",
   "language": "python",
   "name": "python3"
  },
  "language_info": {
   "codemirror_mode": {
    "name": "ipython",
    "version": 3
   },
   "file_extension": ".py",
   "mimetype": "text/x-python",
   "name": "python",
   "nbconvert_exporter": "python",
   "pygments_lexer": "ipython3",
   "version": "3.9.18"
  }
 },
 "nbformat": 4,
 "nbformat_minor": 2
}
